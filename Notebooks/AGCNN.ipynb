{
 "cells": [
  {
   "cell_type": "code",
   "execution_count": null,
   "metadata": {},
   "outputs": [],
   "source": [
    "!git clone https://github.com/tkipf/pygcn.git"
   ]
  },
  {
   "cell_type": "code",
   "execution_count": 1,
   "metadata": {},
   "outputs": [],
   "source": [
    "import sys\n",
    "sys.path.insert(0,'GCN/pygcn')"
   ]
  },
  {
   "cell_type": "code",
   "execution_count": 2,
   "metadata": {},
   "outputs": [],
   "source": [
    "import numpy as np\n",
    "\n",
    "import torch\n",
    "from torch import nn, optim\n",
    "from torch.utils import data"
   ]
  },
  {
   "cell_type": "code",
   "execution_count": 3,
   "metadata": {},
   "outputs": [
    {
     "name": "stdout",
     "output_type": "stream",
     "text": [
      "Loading cora dataset...\n"
     ]
    }
   ],
   "source": [
    "from pygcn.utils import load_data\n",
    "adj, features, labels, idx_train, idx_val, idx_test = load_data(path='GCN/pygcn/data/cora/')"
   ]
  },
  {
   "cell_type": "code",
   "execution_count": 4,
   "metadata": {},
   "outputs": [
    {
     "name": "stdout",
     "output_type": "stream",
     "text": [
      "torch.Size([2708, 1433]) torch.Size([2708, 2708]) torch.Size([2708]) tensor(6)\n"
     ]
    }
   ],
   "source": [
    "print(features.shape, adj.shape, labels.shape, torch.max(labels))"
   ]
  },
  {
   "cell_type": "markdown",
   "metadata": {},
   "source": [
    "# Graph functions"
   ]
  },
  {
   "cell_type": "code",
   "execution_count": null,
   "metadata": {},
   "outputs": [],
   "source": [
    "# adj = adj.add(torch.sparse.FloatTensor(adj._indices(), torch.Tensor(np.repeat(1, adj._indices().shape[1]))))"
   ]
  },
  {
   "cell_type": "code",
   "execution_count": null,
   "metadata": {},
   "outputs": [],
   "source": [
    "class Laplacian:\n",
    "    \n",
    "    def __init__(self, A):\n",
    "        self.A = A\n",
    "        self.D = self.__degreeMatrix()\n",
    "        self.I = torch.eye(self.A.shape[0])\n",
    "        self.L = self.__spectralNormalization()\n",
    "        print(self.L)\n",
    "        \n",
    "    def degreeMatrix(self):\n",
    "        return torch.diag(torch.sum(self.A.to_dense(), dim=1))\n",
    "    \n",
    "    def spectralNormalization(self):\n",
    "        pow1 = self.D.pow(-(1/2))\n",
    "        print(f\"POW 1 {pow1}\")\n",
    "        s1 = torch.spmm(self.A, pow1)\n",
    "        print(s1)\n",
    "        s2 = torch.spmm(s1, self.D.pow(-(1/2)))\n",
    "        print(s2)\n",
    "        return self.I - s2\n",
    "                         \n",
    "    def eigenDecomposition(self):\n",
    "        return np.linalg.eig(self.L)\n",
    "    \n",
    "    def innerValue(self):\n",
    "        return self.L\n",
    "    \n",
    "    __degreeMatrix = degreeMatrix\n",
    "    __spectralNormalization = spectralNormalization"
   ]
  },
  {
   "cell_type": "code",
   "execution_count": null,
   "metadata": {},
   "outputs": [],
   "source": [
    "L = Laplacian(adj).innerValue()"
   ]
  }
 ],
 "metadata": {
  "kernelspec": {
   "display_name": "Python 3",
   "language": "python",
   "name": "python3"
  },
  "language_info": {
   "codemirror_mode": {
    "name": "ipython",
    "version": 3
   },
   "file_extension": ".py",
   "mimetype": "text/x-python",
   "name": "python",
   "nbconvert_exporter": "python",
   "pygments_lexer": "ipython3",
   "version": "3.6.9"
  }
 },
 "nbformat": 4,
 "nbformat_minor": 2
}
