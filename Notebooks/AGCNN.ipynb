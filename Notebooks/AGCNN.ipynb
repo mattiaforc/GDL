{
 "cells": [
  {
   "cell_type": "code",
   "execution_count": 1,
   "metadata": {},
   "outputs": [],
   "source": [
    "import sys\n",
    "sys.path.insert(0, 'GCN/pygcn')"
   ]
  },
  {
   "cell_type": "code",
   "execution_count": 2,
   "metadata": {},
   "outputs": [],
   "source": [
    "import numpy as np\n",
    "import torch\n",
    "import scipy\n",
    "import math\n",
    "import matplotlib.pyplot as plt\n",
    "from torch import nn, optim\n",
    "from pygcn.utils import accuracy\n",
    "from torch.utils import data\n",
    "from torch.nn.parameter import Parameter\n",
    "from torch.nn.modules.module import Module\n",
    "import torch.nn.functional as F"
   ]
  },
  {
   "cell_type": "code",
   "execution_count": 3,
   "metadata": {},
   "outputs": [
    {
     "name": "stdout",
     "output_type": "stream",
     "text": [
      "Loading cora dataset...\n"
     ]
    }
   ],
   "source": [
    "from pygcn.utils import load_data\n",
    "L, features, labels, idx_train, idx_val, idx_test = load_data(path='GCN/pygcn/data/cora/')"
   ]
  },
  {
   "cell_type": "code",
   "execution_count": 4,
   "metadata": {},
   "outputs": [
    {
     "name": "stdout",
     "output_type": "stream",
     "text": [
      "torch.Size([2708, 1433]) torch.Size([2708, 2708]) torch.Size([2708]) tensor(6)\n"
     ]
    }
   ],
   "source": [
    "print(features.shape, L.shape, labels.shape, torch.max(labels))"
   ]
  },
  {
   "cell_type": "markdown",
   "metadata": {},
   "source": [
    "# Matrix functions\n",
    "**Note**: Most of these functions must be changed as soon as torch will provide an implementation for them. At the moment (torch 1.3) most of these sparse functions are unavailable or not-well documented, hence the necessity of implementation below (that may be unefficent or not 100% correct)"
   ]
  },
  {
   "cell_type": "code",
   "execution_count": null,
   "metadata": {},
   "outputs": [],
   "source": [
    "def sparse_degree_matrix(A) -> torch.sparse.FloatTensor:\n",
    "    D = scipy.sparse.spdiags(torch.sparse.sum(A, dim=1).to_dense(),0, *A.shape).tocoo()\n",
    "    return coo_to_torch_sparse_matrix(D)"
   ]
  },
  {
   "cell_type": "code",
   "execution_count": null,
   "metadata": {},
   "outputs": [],
   "source": [
    "def coo_to_torch_sparse_matrix(coo):\n",
    "    idx = torch.LongTensor(coo.nonzero())\n",
    "    data = torch.FloatTensor(coo.data)\n",
    "    return torch.sparse.FloatTensor(idx, data)"
   ]
  },
  {
   "cell_type": "code",
   "execution_count": null,
   "metadata": {},
   "outputs": [],
   "source": [
    "def laplacian(A, normalized=True):\n",
    "    I = torch.eye(A.shape[0])\n",
    "    D = sparse_degree_matrix(A)\n",
    "    if not normalized:\n",
    "        L = D.sub(A)\n",
    "    else:\n",
    "        D = (D**(-(1/2))).to_dense()\n",
    "        p1 = torch.spmm(A, D)\n",
    "        p2 = torch.mm(p1, D)\n",
    "        L = coo_to_torch_sparse_matrix(scipy.sparse.coo_matrix(I - p2))\n",
    "\n",
    "    return L"
   ]
  },
  {
   "cell_type": "markdown",
   "metadata": {},
   "source": [
    "<center><b>Sizes of variables</b>: </center>\n",
    "$$L \\in M^{2708\\times 2708}$$\n",
    "$$Features \\in R^{2708\\times 1433}$$\n",
    "$$Labels \\in N^{2708}$$\n",
    "<center>Number of classes: 7</center>"
   ]
  },
  {
   "cell_type": "markdown",
   "metadata": {},
   "source": [
    "# Cheb-Convnet"
   ]
  },
  {
   "cell_type": "code",
   "execution_count": 5,
   "metadata": {},
   "outputs": [],
   "source": [
    "def test(model):\n",
    "  y_pred = model(features, L) # Usiamo tutto il dataset\n",
    "  acc_test = accuracy(y_pred[idx_test], labels[idx_test]) # Mascheriamo sulla parte di test\n",
    "  print(\"Accuracy:\",\n",
    "          \"accuracy= {:.4f}\".format(acc_test.item()))"
   ]
  },
  {
   "cell_type": "code",
   "execution_count": 11,
   "metadata": {},
   "outputs": [],
   "source": [
    "class Graph_Convolution_Chebychev(nn.Module):\n",
    "        \n",
    "        def __init__(self, F_in, F_out, K):\n",
    "            super(Graph_Convolution_Chebychev, self).__init__()\n",
    "            self.F_in = F_in\n",
    "            self.F_out = F_out\n",
    "            self.weight = Parameter(torch.FloatTensor(F_in * K, F_out))\n",
    "            self.bias = Parameter(torch.FloatTensor(F_out))\n",
    "            self.reset_parameters()\n",
    "\n",
    "        def reset_parameters(self):\n",
    "            stdv = 1. / math.sqrt(self.weight.size(1))\n",
    "            self.weight.data.uniform_(-stdv, stdv)\n",
    "            self.bias.data.fill_(0.0)\n",
    "        \n",
    "        def forward(self, x, L):\n",
    "            V = x.size()[0];\n",
    "            F_in = x.size()[1];\n",
    "            \n",
    "            x0 = x.contiguous()\n",
    "            x0 = x0.view([V, F_in])\n",
    "            x = x0.unsqueeze(0)\n",
    "\n",
    "            if K > 1: \n",
    "                x1 = torch.spmm(L, x0)              # V x Fin\n",
    "                x = torch.cat((x, x1.unsqueeze(0)),0)  # 2 x V x Fin\n",
    "            for k in range(2, K):\n",
    "                x2 = 2 * torch.spmm(L,x1) - x0  \n",
    "                x = torch.cat((x, x2.unsqueeze(0)),0)  # M x Fin\n",
    "                x0, x1 = x1, x2  \n",
    "\n",
    "            x = x.view([K, V, F_in])           # K x V x Fin     \n",
    "            x = x.permute(2,0,1).contiguous()  # V x Fin x K       \n",
    "            x = x.view([V, F_in*K])             # V x Fin*K\n",
    "\n",
    "            x = torch.mm(x, self.weight)\n",
    "            return x + self.bias"
   ]
  },
  {
   "cell_type": "code",
   "execution_count": 15,
   "metadata": {},
   "outputs": [],
   "source": [
    "class Chebychev_convolutional_network(nn.Module):\n",
    "    \n",
    "    def __init__(self, net_parameters):\n",
    "        super(Chebychev_convolutional_network, self).__init__()\n",
    "\n",
    "        self.F_in, self.F_out, self.K, self.dropout = net_parameters\n",
    "        self.GCN1 = Graph_Convolution_Chebychev(self.F_in, 50, K)\n",
    "        self.GCN2 = Graph_Convolution_Chebychev(50, 20, K)\n",
    "        \n",
    "        self.FC1 = nn.Linear(20, 128)\n",
    "        scale = 1. / math.sqrt(self.FC1.weight.size(1))\n",
    "        self.FC1.weight.data.uniform_(-scale, scale)\n",
    "        self.FC1.bias.data.fill_(0.0)\n",
    "        self.FC2 = nn.Linear(128, 7)\n",
    "        scale = 1. / math.sqrt(self.FC2.weight.size(1))\n",
    "        self.FC2.weight.data.uniform_(-scale, scale)\n",
    "        self.FC2.bias.data.fill_(0.0)\n",
    "        \n",
    "    def forward(self, x, L):\n",
    "        x = F.relu(self.GCN1(x, L))\n",
    "        # x = self.graph_max_pool(x, 4)\n",
    "        x = F.dropout(x, self.dropout, training=self.training)\n",
    "        x = self.GCN2(x, L)\n",
    "        # x = self.graph_max_pool(x, 4)\n",
    "        # x = x.view(-1, self.FC1Fin)\n",
    "        x = self.FC1(x)\n",
    "        x = F.relu(x)\n",
    "        x  = F.dropout(x, self.dropout, training=self.training)\n",
    "        x = self.FC2(x)\n",
    "        \n",
    "        return F.log_softmax(x, dim=1)\n",
    "    \n",
    "    def graph_max_pool(self, x, p): \n",
    "        if p > 1: \n",
    "            x = x.view([x.size()[0], x.size()[1], 1])\n",
    "            x = x.permute(0,2,1).contiguous()  # x = B x F x V\n",
    "            x = nn.MaxPool1d(p)(x)             # B x F x V/p          \n",
    "            x = x.permute(0,2,1).contiguous()  # x = B x V/p x F\n",
    "            return x  \n",
    "        else:\n",
    "            return x   \n",
    "    \n",
    "    def loss(self, y, y_target, l2_regularization):\n",
    "    \n",
    "        loss = nn.CrossEntropyLoss()(y,y_target)\n",
    "\n",
    "        l2_loss = 0.0\n",
    "        for param in self.parameters():\n",
    "            data = param* param\n",
    "            l2_loss += data.sum()\n",
    "           \n",
    "        loss += 0.5* l2_regularization* l2_loss\n",
    "            \n",
    "        return loss"
   ]
  },
  {
   "cell_type": "code",
   "execution_count": 16,
   "metadata": {},
   "outputs": [
    {
     "name": "stdout",
     "output_type": "stream",
     "text": [
      "Accuracy: accuracy= 0.1410\n"
     ]
    }
   ],
   "source": [
    "F_in = 1433\n",
    "F_out = 7\n",
    "K = 5\n",
    "dropout = 0.2\n",
    "net_parameters = [F_in, F_out, K, dropout]\n",
    "\n",
    "cheb_net = Chebychev_convolutional_network(net_parameters)\n",
    "optimizer_cheb = optim.Adam(cheb_net.parameters())\n",
    "criterion = nn.CrossEntropyLoss()\n",
    "test(cheb_net)"
   ]
  },
  {
   "cell_type": "code",
   "execution_count": 20,
   "metadata": {},
   "outputs": [
    {
     "name": "stderr",
     "output_type": "stream",
     "text": [
      "100%|██████████| 100/100 [00:37<00:00,  2.64it/s]\n"
     ]
    }
   ],
   "source": [
    "import tqdm\n",
    "loss_history = np.zeros(100) \n",
    "\n",
    "for epoch in tqdm.trange(100): \n",
    "  \n",
    "    optimizer_cheb.zero_grad()\n",
    "    outputs = cheb_net(features, L) # Usiamo tutto il dataset\n",
    "    loss = criterion(outputs, labels) # Mascheriamo sulla parte di training\n",
    "    loss.backward()\n",
    "    optimizer_cheb.step()\n",
    "    optimizer_cheb.zero_grad()\n",
    "\n",
    "    loss_history[epoch] = loss.detach().numpy()"
   ]
  },
  {
   "cell_type": "code",
   "execution_count": 21,
   "metadata": {},
   "outputs": [
    {
     "data": {
      "image/png": "[encoded data removed]",
      "text/plain": [
       "<Figure size 432x288 with 1 Axes>"
      ]
     },
     "metadata": {},
     "output_type": "display_data"
    },
    {
     "name": "stdout",
     "output_type": "stream",
     "text": [
      "Accuracy: accuracy= 0.9570\n",
      "tensor(0.1737, grad_fn=<NllLossBackward>)\n"
     ]
    }
   ],
   "source": [
    "plt.plot(loss_history)\n",
    "plt.show()\n",
    "test(cheb_net)\n",
    "print(loss)"
   ]
  }
 ],
 "metadata": {
  "kernelspec": {
   "display_name": "Python 3",
   "language": "python",
   "name": "python3"
  },
  "language_info": {
   "codemirror_mode": {
    "name": "ipython",
    "version": 3
   },
   "file_extension": ".py",
   "mimetype": "text/x-python",
   "name": "python",
   "nbconvert_exporter": "python",
   "pygments_lexer": "ipython3",
   "version": "3.6.9"
  }
 },
 "nbformat": 4,
 "nbformat_minor": 2
}
