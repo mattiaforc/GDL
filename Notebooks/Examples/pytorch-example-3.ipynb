{
 "cells": [
  {
   "cell_type": "code",
   "execution_count": 6,
   "metadata": {},
   "outputs": [],
   "source": [
    "import torch\n",
    "from torch import nn\n",
    "\n",
    "import torch.nn.functional as F\n",
    "\n",
    "class Swish1(torch.nn.Module):\n",
    "    def forward(self, input):\n",
    "        return input * torch.sigmoid(input)"
   ]
  },
  {
   "cell_type": "code",
   "execution_count": 7,
   "metadata": {},
   "outputs": [],
   "source": [
    "class ConstantBetaSwish(nn.Module):\n",
    "\n",
    "    def __init__(self, beta=2.0):\n",
    "        super(ConstantBetaSwish, self).__init__()\n",
    "        self.register_buffer('beta', torch.tensor(beta, dtype=torch.float32))\n",
    "\n",
    "    def forward(self, input):\n",
    "        return input * torch.sigmoid(input * Variable(self.beta))\n",
    "\n",
    "    def extra_repr(self):\n",
    "        return 'beta={}'.format(self.beta)"
   ]
  },
  {
   "cell_type": "code",
   "execution_count": 8,
   "metadata": {},
   "outputs": [],
   "source": [
    "class BetaSwish(nn.Module):\n",
    "    def __init__(self, num_parameters=1):\n",
    "        super(BetaSwish, self).__init__()\n",
    "\n",
    "        self.num_parameters = num_parameters\n",
    "        self.beta = torch.nn.Parameter(torch.ones(1, num_parameters))\n",
    "\n",
    "    def forward(self, input):\n",
    "        return input * torch.sigmoid(input * self.beta)"
   ]
  }
 ],
 "metadata": {
  "kernelspec": {
   "display_name": "Python 3",
   "language": "python",
   "name": "python3"
  },
  "language_info": {
   "codemirror_mode": {
    "name": "ipython",
    "version": 3
   },
   "file_extension": ".py",
   "mimetype": "text/x-python",
   "name": "python",
   "nbconvert_exporter": "python",
   "pygments_lexer": "ipython3",
   "version": "3.6.8"
  }
 },
 "nbformat": 4,
 "nbformat_minor": 2
}
