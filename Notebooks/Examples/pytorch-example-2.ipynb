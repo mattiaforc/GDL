{
 "cells": [
  {
   "cell_type": "code",
   "execution_count": 1,
   "metadata": {},
   "outputs": [],
   "source": [
    "from sklearn import datasets, model_selection\n",
    "data = datasets.load_iris()\n",
    "Xtrain, Xtest, ytrain, ytest = model_selection.train_test_split(data['data'], data['target']) "
   ]
  },
  {
   "cell_type": "code",
   "execution_count": 2,
   "metadata": {},
   "outputs": [],
   "source": [
    "import torch\n",
    "from torch import nn, optim"
   ]
  },
  {
   "cell_type": "code",
   "execution_count": 3,
   "metadata": {},
   "outputs": [],
   "source": [
    "import os\n",
    "def resume_from_checkpoint(path_to_checkpoint):\n",
    "\n",
    "  if os.path.isfile(path_to_checkpoint):\n",
    "\n",
    "    # Caricamento del checkpoint\n",
    "    checkpoint = torch.load(path_to_checkpoint)\n",
    "\n",
    "    # Ripristino dello stato del sistema\n",
    "    start_epoch = checkpoint['epoch']\n",
    "    model.load_state_dict(checkpoint['state_dict'])\n",
    "    opt.load_state_dict(checkpoint['opt'])\n",
    "    print(\"Caricato il checkpoint '{}' (epoca {})\"\n",
    "                  .format(path_to_checkpoint, checkpoint['epoch']))\n",
    "\n",
    "  else:\n",
    "    start_epoch = 0\n",
    "\n",
    "  return start_epoch"
   ]
  },
  {
   "cell_type": "code",
   "execution_count": 4,
   "metadata": {},
   "outputs": [],
   "source": [
    "Xtrain = torch.from_numpy(Xtrain).float()\n",
    "Xtest = torch.from_numpy(Xtest).float()\n",
    "ytrain = torch.from_numpy(ytrain)\n",
    "ytest = torch.from_numpy(ytest)"
   ]
  },
  {
   "cell_type": "code",
   "execution_count": 5,
   "metadata": {},
   "outputs": [],
   "source": [
    "from torch.utils import data\n",
    "train_data = data.TensorDataset(Xtrain, ytrain)"
   ]
  },
  {
   "cell_type": "code",
   "execution_count": 6,
   "metadata": {},
   "outputs": [],
   "source": [
    "class CustomModel(nn.Module):\n",
    "\n",
    "    def __init__(self):\n",
    "        super(CustomModel, self).__init__()\n",
    "        \n",
    "        self.hidden = nn.Linear(4, 10)\n",
    "        self.relu = nn.ReLU()\n",
    "        self.drop = nn.Dropout(0.2)\n",
    "        self.out = nn.Linear(10, 3)\n",
    "        \n",
    "    def forward(self, x):\n",
    "        x = self.relu(self.hidden(x))\n",
    "        return self.out(self.drop(x))"
   ]
  },
  {
   "cell_type": "code",
   "execution_count": 7,
   "metadata": {},
   "outputs": [],
   "source": [
    "net = CustomModel()"
   ]
  },
  {
   "cell_type": "code",
   "execution_count": 8,
   "metadata": {},
   "outputs": [
    {
     "name": "stdout",
     "output_type": "stream",
     "text": [
      "CustomModel(\n",
      "  (hidden): Linear(in_features=4, out_features=10, bias=True)\n",
      "  (relu): ReLU()\n",
      "  (drop): Dropout(p=0.2, inplace=False)\n",
      "  (out): Linear(in_features=10, out_features=3, bias=True)\n",
      ")\n"
     ]
    }
   ],
   "source": [
    "print(net)"
   ]
  },
  {
   "cell_type": "code",
   "execution_count": 9,
   "metadata": {},
   "outputs": [],
   "source": [
    "loss = nn.CrossEntropyLoss()\n",
    "opt = torch.optim.Adam(params=net.parameters(), lr=0.01)"
   ]
  },
  {
   "cell_type": "code",
   "execution_count": 10,
   "metadata": {},
   "outputs": [],
   "source": [
    "train_data_loader = data.DataLoader(train_data, batch_size=32, shuffle=True)"
   ]
  },
  {
   "cell_type": "code",
   "execution_count": 11,
   "metadata": {},
   "outputs": [],
   "source": [
    "def train_step(x, y):\n",
    "\n",
    "  # Modalità di training\n",
    "  net.train()\n",
    "\n",
    "  # Calcola le predizioni\n",
    "  y_pred = net(x)\n",
    "\n",
    "  # Calcola funzione costo\n",
    "  loss_epoch = loss(y_pred, y)\n",
    "\n",
    "  # Esegui back-propagation\n",
    "  loss_epoch.backward()\n",
    "\n",
    "  # Aggiorna i parametri\n",
    "  opt.step()\n",
    "\n",
    "  # Resetta il gradiente\n",
    "  opt.zero_grad()\n",
    "\n",
    "for epoch in range(100):\n",
    "  net.train()\n",
    "  for Xb, yb in train_data_loader:\n",
    "    train_step(Xb, yb)"
   ]
  },
  {
   "cell_type": "code",
   "execution_count": 12,
   "metadata": {},
   "outputs": [
    {
     "name": "stdout",
     "output_type": "stream",
     "text": [
      "0.9210526347160339\n"
     ]
    }
   ],
   "source": [
    "with torch.no_grad():\n",
    "  net.eval()\n",
    "  y_pred = net(Xtest)\n",
    "  correct = (y_pred.max(dim=1)[1] == ytest)\n",
    "  print(torch.mean(correct.float()).item())"
   ]
  },
  {
   "cell_type": "markdown",
   "metadata": {},
   "source": [
    "# Checkpoints"
   ]
  },
  {
   "cell_type": "code",
   "execution_count": 13,
   "metadata": {},
   "outputs": [],
   "source": [
    "torch.save(net.state_dict(), './tmp')"
   ]
  },
  {
   "cell_type": "code",
   "execution_count": 14,
   "metadata": {},
   "outputs": [
    {
     "data": {
      "text/plain": [
       "<All keys matched successfully>"
      ]
     },
     "execution_count": 14,
     "metadata": {},
     "output_type": "execute_result"
    }
   ],
   "source": [
    "net.load_state_dict(torch.load('./tmp'))"
   ]
  },
  {
   "cell_type": "code",
   "execution_count": 15,
   "metadata": {},
   "outputs": [],
   "source": [
    "start_epoch = resume_from_checkpoint('checkpoint.pth.tar')\n",
    "for epoch in range(start_epoch, 1000):\n",
    "\n",
    "  net.train()\n",
    "\n",
    "  for Xb, yb in train_data_loader:  \n",
    "    train_step(Xb, yb)\n",
    "\n",
    "  # Stato complessivo del processo di ottimizzazione\n",
    "  state = {\n",
    "    'epoch': epoch,\n",
    "    'state_dict': net.state_dict(),\n",
    "    'opt': opt.state_dict(),\n",
    "  }\n",
    "  torch.save(state, 'checkpoint.pth.tar') "
   ]
  },
  {
   "cell_type": "markdown",
   "metadata": {},
   "source": [
    "# CUDA"
   ]
  },
  {
   "cell_type": "code",
   "execution_count": null,
   "metadata": {},
   "outputs": [],
   "source": [
    "torch.cuda.get_device_capability(0)"
   ]
  },
  {
   "cell_type": "code",
   "execution_count": null,
   "metadata": {},
   "outputs": [],
   "source": [
    "net = CustomModel()\n",
    "if torch.cuda.is_available():\n",
    "  net.to('cuda')\n",
    "loss = nn.CrossEntropyLoss()\n",
    "opt = torch.optim.Adam(params=net.parameters(), lr=0.01)"
   ]
  },
  {
   "cell_type": "code",
   "execution_count": null,
   "metadata": {},
   "outputs": [],
   "source": [
    "for epoch in range(2500):\n",
    "  net.train()\n",
    "  for Xb, yb in train_data_loader:\n",
    "    Xb, yb = Xb.to(device), yb.to(device)\n",
    "    train_step(Xb, yb)"
   ]
  }
 ],
 "metadata": {
  "kernelspec": {
   "display_name": "Python 3",
   "language": "python",
   "name": "python3"
  },
  "language_info": {
   "codemirror_mode": {
    "name": "ipython",
    "version": 3
   },
   "file_extension": ".py",
   "mimetype": "text/x-python",
   "name": "python",
   "nbconvert_exporter": "python",
   "pygments_lexer": "ipython3",
   "version": "3.6.8"
  }
 },
 "nbformat": 4,
 "nbformat_minor": 2
}
