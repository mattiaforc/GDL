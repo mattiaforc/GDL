{
 "cells": [
  {
   "cell_type": "code",
   "execution_count": 27,
   "metadata": {},
   "outputs": [],
   "source": [
    "import numpy as np\n",
    "import torch"
   ]
  },
  {
   "cell_type": "code",
   "execution_count": 5,
   "metadata": {},
   "outputs": [],
   "source": [
    "X = np.random.rand(30, 1)*2.0\n",
    "w = np.random.rand(2, 1)\n",
    "y = X*w[0] + w[1] + np.random.randn(30, 1) * 0.05"
   ]
  },
  {
   "cell_type": "code",
   "execution_count": 6,
   "metadata": {},
   "outputs": [],
   "source": [
    "W = torch.rand(1, 1, requires_grad=True)\n",
    "b = torch.rand(1, requires_grad=True)\n",
    "\n",
    "def linear(x):\n",
    "  return torch.matmul(x, W) + b # Equivalent to np.dot()"
   ]
  },
  {
   "cell_type": "code",
   "execution_count": 8,
   "metadata": {},
   "outputs": [],
   "source": [
    "Xt = torch.from_numpy(X).float()\n",
    "yt = torch.from_numpy(y).float()\n",
    "\n",
    "for epoch in range(2500):\n",
    "\n",
    "  # Calcola le predizioni\n",
    "  y_pred = linear(Xt)\n",
    "\n",
    "  # Calcola funzione costo\n",
    "  loss = torch.mean((y_pred - yt) ** 2)\n",
    "\n",
    "  # Esegui back-propagation\n",
    "  loss.backward()\n",
    "\n",
    "  # Aggiorna i parametri del modello\n",
    "  W.data = W.data - 0.005*W.grad.data\n",
    "  b.data = b.data - 0.005*b.grad.data\n",
    "\n",
    "  # Resetta il gradiente\n",
    "  W.grad.data.zero_()\n",
    "  b.grad.data.zero_()"
   ]
  }
 ],
 "metadata": {
  "kernelspec": {
   "display_name": "Python 3",
   "language": "python",
   "name": "python3"
  },
  "language_info": {
   "codemirror_mode": {
    "name": "ipython",
    "version": 3
   },
   "file_extension": ".py",
   "mimetype": "text/x-python",
   "name": "python",
   "nbconvert_exporter": "python",
   "pygments_lexer": "ipython3",
   "version": "3.6.8"
  }
 },
 "nbformat": 4,
 "nbformat_minor": 2
}
